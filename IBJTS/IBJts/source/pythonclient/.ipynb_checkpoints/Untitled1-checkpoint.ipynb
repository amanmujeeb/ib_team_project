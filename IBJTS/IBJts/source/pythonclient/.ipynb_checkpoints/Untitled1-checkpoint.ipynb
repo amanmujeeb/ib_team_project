{
 "cells": [
  {
   "cell_type": "code",
   "execution_count": null,
   "id": "e0c72b7d-0f67-4eff-a133-fe3f49b9a1ae",
   "metadata": {},
   "outputs": [
    {
     "name": "stderr",
     "output_type": "stream",
     "text": [
      "ERROR -1 2104 Market data farm connection is OK:hfarm\n",
      "ERROR -1 2104 Market data farm connection is OK:usfarm.nj\n",
      "ERROR -1 2104 Market data farm connection is OK:jfarm\n",
      "ERROR -1 2104 Market data farm connection is OK:usfuture\n",
      "ERROR -1 2104 Market data farm connection is OK:cashfarm\n",
      "ERROR -1 2104 Market data farm connection is OK:eufarmnj\n",
      "ERROR -1 2104 Market data farm connection is OK:usfarm\n",
      "ERROR -1 2106 HMDS data farm connection is OK:euhmds\n",
      "ERROR -1 2106 HMDS data farm connection is OK:fundfarm\n",
      "ERROR -1 2106 HMDS data farm connection is OK:ushmds\n",
      "ERROR -1 2158 Sec-def data farm connection is OK:secdefil\n"
     ]
    },
    {
     "name": "stdout",
     "output_type": "stream",
     "text": [
      "Scanner parameters received!\n"
     ]
    }
   ],
   "source": [
    "from ibapi.client import *\n",
    "from ibapi.wrapper import *\n",
    " \n",
    "port = 7497\n",
    " \n",
    "class TestApp(EClient, EWrapper):\n",
    "    def __init__(self):\n",
    "        EClient.__init__(self, self)\n",
    " \n",
    "    def nextValidId(self, orderId: int):\n",
    "        self.reqScannerParameters()\n",
    " \n",
    "    def scannerParameters(self, xml):\n",
    "        dir = \"C:\\\\IBKR\\\\TWS API\\\\samples\\\\Python\\\\Testbed\\\\Traders Academy\\\\scanner.xml\"\n",
    "        open(dir, 'w').write(xml)\n",
    "        print(\"Scanner parameters received!\")\n",
    " \n",
    "app = TestApp()\n",
    "app.connect(\"127.0.0.1\", port, 1001)\n",
    "app.run()"
   ]
  },
  {
   "cell_type": "code",
   "execution_count": null,
   "id": "77e05e91-c71a-44e6-9896-d7256874c078",
   "metadata": {},
   "outputs": [],
   "source": [
    "from ibapi.client import *\n",
    "from ibapi.wrapper import *\n",
    "from ibapi.tag_value import *\n",
    " \n",
    "port = 7497\n",
    " \n",
    "class TestApp(EClient, EWrapper):\n",
    "    def __init__(self):\n",
    "        EClient.__init__(self, self)\n",
    " \n",
    "    def nextValidId(self, orderId: int):\n",
    "        sub = ScannerSubscription()\n",
    "        sub.instrument = \"STK\"\n",
    "        sub.locationCode = \"STK.US.MAJOR\"\n",
    "        sub.scanCode = \"TOP_OPEN_PERC_GAIN\"\n",
    " \n",
    "        scan_options = []\n",
    "        filter_options = [\n",
    "            TagValue(\"volumeAbove\",\"10000\"),\n",
    "            TagValue(\"marketCapBelow1e6\", \"1000\"),\n",
    "            TagValue(\"priceAbove\", '1')\n",
    "        ]\n",
    " \n",
    "        self.reqScannerSubscription(orderId, sub, scan_options, filter_options)\n",
    " \n",
    "    def scannerData(self, reqId, rank, contractDetails, distance, benchmark, projection, legsStr):\n",
    "        print(f\"scannerData. reqId: {reqId}, rank: {rank}, contractDetails: {contractDetails}, distance: {distance}, benchmark: {benchmark}, projection: {projection}, legsStr: {legsStr}.\")\n",
    " \n",
    "    def scannerDataEnd(self, reqId):\n",
    "        print(\"ScannerDataEnd!\")\n",
    "        self.cancelScannerSubscription(reqId)\n",
    "        self.disconnect()\n",
    " \n",
    "app = TestApp()\n",
    "app.connect(\"127.0.0.1\", port, 1001)\n",
    "app.run()"
   ]
  },
  {
   "cell_type": "code",
   "execution_count": null,
   "id": "64ff18f8-1dab-4814-90de-a19219cedeef",
   "metadata": {},
   "outputs": [],
   "source": []
  }
 ],
 "metadata": {
  "kernelspec": {
   "display_name": "Python 3",
   "language": "python",
   "name": "python3"
  },
  "language_info": {
   "codemirror_mode": {
    "name": "ipython",
    "version": 3
   },
   "file_extension": ".py",
   "mimetype": "text/x-python",
   "name": "python",
   "nbconvert_exporter": "python",
   "pygments_lexer": "ipython3",
   "version": "3.8.8"
  }
 },
 "nbformat": 4,
 "nbformat_minor": 5
}
