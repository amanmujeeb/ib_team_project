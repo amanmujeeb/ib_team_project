{
 "cells": [
  {
   "cell_type": "code",
   "execution_count": null,
   "id": "c34c47f1-3bc6-4627-a212-635e4444dc60",
   "metadata": {},
   "outputs": [
    {
     "name": "stderr",
     "output_type": "stream",
     "text": [
      "ERROR -1 2104 Market data farm connection is OK:hfarm\n",
      "ERROR -1 2104 Market data farm connection is OK:usfarm.nj\n",
      "ERROR -1 2104 Market data farm connection is OK:usfuture\n",
      "ERROR -1 2104 Market data farm connection is OK:jfarm\n",
      "ERROR -1 2104 Market data farm connection is OK:cashfarm\n",
      "ERROR -1 2104 Market data farm connection is OK:eufarmnj\n",
      "ERROR -1 2104 Market data farm connection is OK:usfarm\n",
      "ERROR -1 2106 HMDS data farm connection is OK:euhmds\n",
      "ERROR -1 2106 HMDS data farm connection is OK:fundfarm\n",
      "ERROR -1 2106 HMDS data farm connection is OK:ushmds\n",
      "ERROR -1 2158 Sec-def data farm connection is OK:secdefil\n"
     ]
    }
   ],
   "source": [
    "from ibapi.client import *\n",
    "from ibapi.wrapper import *\n",
    "import time\n",
    " \n",
    "class TestApp(EClient, EWrapper):\n",
    "    def __init__(self):\n",
    "        EClient.__init__(self, self)\n",
    "    def nextValid(self,orderId:int):\n",
    "\n",
    "\n",
    "        mycontract = Contract()\n",
    "        mycontract.symbol = \"AAPL\"\n",
    "        mycontract.secType = \"STK\"\n",
    "        mycontract.exchange = \"SMART\"\n",
    "        mycontract.currency = \"USD\"\n",
    "\n",
    "        self.reqHistoricalData(orderId, mycontract, \"20221010 15:00 US/Central\", \"1 D\", \"1 hour\", \"TRADES\", 0, 1, 0, [])\n",
    "\n",
    "        #time.sleep(3)\n",
    "\n",
    "        #app.reqContractDetails(1, mycontract)\n",
    "        def histdata(self,reqId, bar):\n",
    "            print(f\"Hist Data: {bar}\")\n",
    "        def histdataend(self,reqId,start,end):\n",
    "            print(f\"End of data\")\n",
    "            print(f\"Start:{start}, End:{end}\")\n",
    "\n",
    "app = TestApp()\n",
    " \n",
    "app.connect(\"127.0.0.1\", 7497, 1000)\n",
    "app.run()\n",
    " "
   ]
  },
  {
   "cell_type": "code",
   "execution_count": null,
   "id": "55649bb0-50ab-4caf-a79d-6d10f441f444",
   "metadata": {},
   "outputs": [],
   "source": []
  }
 ],
 "metadata": {
  "kernelspec": {
   "display_name": "Python 3",
   "language": "python",
   "name": "python3"
  },
  "language_info": {
   "codemirror_mode": {
    "name": "ipython",
    "version": 3
   },
   "file_extension": ".py",
   "mimetype": "text/x-python",
   "name": "python",
   "nbconvert_exporter": "python",
   "pygments_lexer": "ipython3",
   "version": "3.8.8"
  }
 },
 "nbformat": 4,
 "nbformat_minor": 5
}
