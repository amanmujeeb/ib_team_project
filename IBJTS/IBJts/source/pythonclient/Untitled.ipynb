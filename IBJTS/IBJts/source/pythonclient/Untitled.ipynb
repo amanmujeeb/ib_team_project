{
 "cells": [
  {
   "cell_type": "code",
   "execution_count": 1,
   "id": "c34c47f1-3bc6-4627-a212-635e4444dc60",
   "metadata": {},
   "outputs": [],
   "source": [
    "from ibapi.client import *\n",
    "from ibapi.wrapper import *\n",
    " \n",
    "class TestApp(EClient, EWrapper):\n",
    "    def __init__(self):\n",
    "        EClient.__init__(self, self)\n",
    " \n",
    "    def nextValidId(self, orderId: int):\n",
    "         \n",
    "        mycontract = Contract()\n",
    "        mycontract.symbol = \"AAPL\"\n",
    "        mycontract.secType = \"STK\"\n",
    "        mycontract.exchange = \"SMART\"\n",
    "        mycontract.currency = \"USD\"\n",
    " \n",
    "        self.reqHistoricalData(orderId, mycontract, \"20230126\", \"1 D\", \"1 hour\", \"TRADES\", 0, 1, 0, [])\n",
    " \n",
    "    def historicalData(self, reqId, bar):\n",
    "        print(f\"Historical Data: {bar}\")\n",
    " \n",
    "    def historicalDataEnd(self, reqId, start, end):\n",
    "        print(f\"End of HistoricalData\")\n",
    "        print(f\"Start: {start}, End: {end}\")\n",
    " \n",
    " \n",
    "app = TestApp()\n",
    "app.connect(\"127.0.0.1\", 7497, 1000)\n",
    "app.run()\n",
    " "
   ]
  },
  {
   "cell_type": "code",
   "execution_count": 3,
   "id": "55649bb0-50ab-4caf-a79d-6d10f441f444",
   "metadata": {},
   "outputs": [],
   "source": [
    "from ibapi.client import *\n",
    "from ibapi.wrapper import *\n",
    " \n",
    "class TestApp(EClient, EWrapper):\n",
    "    def __init__(self):\n",
    "        EClient.__init__(self, self)\n",
    " \n",
    "    def nextValidId(self, orderId: int):\n",
    "         \n",
    "        mycontract = Contract()\n",
    "        mycontract.symbol = \"AAPL\"\n",
    "        mycontract.secType = \"STK\"\n",
    "        mycontract.exchange = \"SMART\"\n",
    "        mycontract.currency = \"USD\"\n",
    " \n",
    "        self.reqMarketDataType(4)\n",
    "        self.reqMktData(orderId, mycontract, \"\", 0, 0, [])\n",
    " \n",
    "    def tickPrice(self, reqId, tickType, price, attrib):\n",
    "        print(f\"tickPrice. reqId: {reqId}, tickType: {TickTypeEnum.to_str(tickType)}, price: {price}, attribs: {attrib}\")\n",
    " \n",
    "    def tickSize(self, reqId, tickType, size):\n",
    "        print(f\"tickSize. reqId: {reqId}, tickType: {TickTypeEnum.to_str(tickType)}, size: {size}\")\n",
    " \n",
    "         \n",
    "app = TestApp()\n",
    "app.connect(\"127.0.0.1\", 7497, 1000)\n",
    "app.run()"
   ]
  },
  {
   "cell_type": "code",
   "execution_count": 13,
   "id": "87e71c91-1566-4e35-bed1-aa50599fbdba",
   "metadata": {},
   "outputs": [],
   "source": [
    "import csv"
   ]
  },
  {
   "cell_type": "code",
   "execution_count": 18,
   "id": "c2052581-96b4-4f60-90d5-5eae62a63194",
   "metadata": {},
   "outputs": [
    {
     "name": "stderr",
     "output_type": "stream",
     "text": [
      "ERROR -1 2103 Market data farm connection is broken:hfarm\n",
      "ERROR -1 2104 Market data farm connection is OK:hfarm\n",
      "ERROR -1 2103 Market data farm connection is broken:jfarm\n",
      "ERROR -1 2104 Market data farm connection is OK:jfarm\n",
      "ERROR -1 2103 Market data farm connection is broken:jfarm\n",
      "ERROR -1 2104 Market data farm connection is OK:jfarm\n",
      "ERROR -1 2103 Market data farm connection is broken:usfarm\n",
      "ERROR -1 2103 Market data farm connection is broken:usfarm.nj\n",
      "ERROR -1 2103 Market data farm connection is broken:eufarmnj\n",
      "ERROR -1 2105 HMDS data farm connection is broken:fundfarm\n",
      "ERROR -1 2103 Market data farm connection is broken:cashfarm\n",
      "ERROR -1 2157 Sec-def data farm connection is broken:secdefil\n",
      "ERROR -1 2105 HMDS data farm connection is broken:ushmds\n",
      "ERROR -1 2103 Market data farm connection is broken:usfuture\n",
      "ERROR -1 2105 HMDS data farm connection is broken:ushmds.nj\n",
      "ERROR -1 2105 HMDS data farm connection is broken:euhmds\n",
      "ERROR -1 2103 Market data farm connection is broken:hfarm\n",
      "ERROR -1 2103 Market data farm connection is broken:hfarm\n",
      "ERROR -1 2103 Market data farm connection is broken:jfarm\n",
      "ERROR -1 2106 HMDS data farm connection is OK:fundfarm\n",
      "ERROR -1 2104 Market data farm connection is OK:cashfarm\n",
      "ERROR -1 2104 Market data farm connection is OK:usfarm.nj\n",
      "ERROR -1 2103 Market data farm connection is broken:jfarm\n",
      "ERROR -1 1100 Connectivity between IB and Trader Workstation has been lost.\n",
      "ERROR -1 2103 Market data farm connection is broken:usfarm.nj\n",
      "ERROR -1 2103 Market data farm connection is broken:cashfarm\n",
      "ERROR -1 2105 HMDS data farm connection is broken:fundfarm\n",
      "ERROR -1 2106 HMDS data farm connection is OK:fundfarm\n",
      "ERROR -1 2104 Market data farm connection is OK:cashfarm\n",
      "ERROR -1 2104 Market data farm connection is OK:usfarm.nj\n",
      "ERROR -1 2104 Market data farm connection is OK:jfarm\n",
      "ERROR -1 2104 Market data farm connection is OK:hfarm\n",
      "ERROR -1 2106 HMDS data farm connection is OK:ushmds\n",
      "ERROR -1 2106 HMDS data farm connection is OK:ushmds.nj\n",
      "ERROR -1 2104 Market data farm connection is OK:usfarm\n",
      "ERROR -1 1102 Connectivity between IB and Trader Workstation has been restored - data maintained. The following farms are connected: hfarm; usfarm.nj; jfarm; cashfarm; usfarm; ushmds.nj; fundfarm; ushmds. The following farms are not connected: usfuture; eufarmnj; euhmds; secdefil.\n",
      "ERROR -1 2104 Market data farm connection is OK:usfuture\n",
      "ERROR -1 2106 HMDS data farm connection is OK:euhmds\n",
      "ERROR -1 2105 HMDS data farm connection is broken:fundfarm\n",
      "ERROR -1 2106 HMDS data farm connection is OK:fundfarm\n",
      "ERROR -1 2103 Market data farm connection is broken:cashfarm\n",
      "ERROR -1 2104 Market data farm connection is OK:cashfarm\n",
      "ERROR -1 2103 Market data farm connection is broken:usfarm.nj\n",
      "ERROR -1 2104 Market data farm connection is OK:usfarm.nj\n",
      "ERROR -1 2104 Market data farm connection is OK:eufarmnj\n",
      "ERROR -1 2158 Sec-def data farm connection is OK:secdefil\n",
      "ERROR -1 2103 Market data farm connection is broken:jfarm\n",
      "ERROR -1 2104 Market data farm connection is OK:jfarm\n",
      "ERROR -1 2103 Market data farm connection is broken:hfarm\n",
      "ERROR -1 2104 Market data farm connection is OK:hfarm\n",
      "ERROR -1 2105 HMDS data farm connection is broken:ushmds.nj\n",
      "ERROR -1 2106 HMDS data farm connection is OK:ushmds.nj\n",
      "ERROR -1 2105 HMDS data farm connection is broken:euhmds\n",
      "ERROR -1 2106 HMDS data farm connection is OK:euhmds\n",
      "ERROR -1 2103 Market data farm connection is broken:eufarmnj\n",
      "ERROR -1 2104 Market data farm connection is OK:eufarmnj\n"
     ]
    }
   ],
   "source": [
    "from ibapi.client import EClient\n",
    "from ibapi.wrapper import EWrapper\n",
    "from ibapi.contract import Contract\n",
    "import pandas as pd\n",
    "\n",
    "\n",
    "class MyWrapper(EWrapper):\n",
    "    def __init__(self):\n",
    "        self.data = []\n",
    "        self.df=None\n",
    "        \n",
    "\n",
    "    def nextValidId(self, orderId:int):\n",
    "        print(\"Setting nextValidOrderId: %d\", orderId)\n",
    "        self.nextValidOrderId = orderId\n",
    "        self.start()\n",
    "\n",
    "    def historicalData(self, reqId, bar):\n",
    "        print(\"HistoricalData. \", reqId, \"Date:\", bar.date, \"Open:\", bar.open, \"High:\", bar.high, \"Low:\", bar.low, \"Close:\", bar.close, \"Volume:\", bar.volume)\n",
    "\n",
    "    def historicalDataUpdate(self, reqId, bar):\n",
    "        print(\"HistoricalDataUpdate. \", reqId, \"Date:\", bar.date, \"Open:\", bar.open, \"High:\", bar.high, \"Low:\", bar.low, \"Close:\", bar.close, \"Volume:\", bar.volume)\n",
    "   \n",
    "    def start(self):\n",
    "        queryTime = \"\"\n",
    "\n",
    "        contract = Contract()\n",
    "        contract.secType = \"STK\"\n",
    "        contract.symbol = \"NIO\"\n",
    "        contract.currency = \"USD\"\n",
    "        contract.exchange = \"SMART\"\n",
    "\n",
    "        app.reqHistoricalData(1, contract, queryTime, \"1 D\", \"5 secs\", \"TRADES\", 0, 1, True, [])\n",
    "\n",
    "wrap = MyWrapper()        \n",
    "app = EClient(wrap)\n",
    "app.connect(\"127.0.0.1\", 7497, 1000)\n",
    "\n",
    "\n",
    "import threading\n",
    "threading.Thread(target = app.run).start()\n",
    "\n",
    "#this isn't needed in jupyter, just run another cell\n",
    "import time\n",
    "time.sleep(10) # in 5 minutes check the df and close\n",
    "\n",
    "\n"
   ]
  },
  {
   "cell_type": "code",
   "execution_count": 7,
   "id": "a4b05a8a-5fc2-4f7e-ab75-527f893fb7cb",
   "metadata": {},
   "outputs": [],
   "source": [
    "import csv"
   ]
  },
  {
   "cell_type": "code",
   "execution_count": 15,
   "id": "73dcaf59-7cb3-496d-8cb4-1fcd876655f4",
   "metadata": {},
   "outputs": [
    {
     "ename": "KeyboardInterrupt",
     "evalue": "",
     "output_type": "error",
     "traceback": [
      "\u001b[0;31m---------------------------------------------------------------------------\u001b[0m",
      "\u001b[0;31mKeyboardInterrupt\u001b[0m                         Traceback (most recent call last)",
      "\u001b[0;32m<ipython-input-15-cbe2b01ee01d>\u001b[0m in \u001b[0;36m<module>\u001b[0;34m\u001b[0m\n\u001b[1;32m      1\u001b[0m \u001b[0;31m#this isn't needed in jupyter, just run another cell\u001b[0m\u001b[0;34m\u001b[0m\u001b[0;34m\u001b[0m\u001b[0;34m\u001b[0m\u001b[0m\n\u001b[1;32m      2\u001b[0m \u001b[0;32mimport\u001b[0m \u001b[0mtime\u001b[0m\u001b[0;34m\u001b[0m\u001b[0;34m\u001b[0m\u001b[0m\n\u001b[0;32m----> 3\u001b[0;31m \u001b[0mtime\u001b[0m\u001b[0;34m.\u001b[0m\u001b[0msleep\u001b[0m\u001b[0;34m(\u001b[0m\u001b[0;36m60\u001b[0m\u001b[0;34m)\u001b[0m \u001b[0;31m# in 5 minutes check the df and close\u001b[0m\u001b[0;34m\u001b[0m\u001b[0;34m\u001b[0m\u001b[0m\n\u001b[0m\u001b[1;32m      4\u001b[0m \u001b[0;34m\u001b[0m\u001b[0m\n\u001b[1;32m      5\u001b[0m \u001b[0mprint\u001b[0m\u001b[0;34m(\u001b[0m\u001b[0mwrap\u001b[0m\u001b[0;34m.\u001b[0m\u001b[0mdf\u001b[0m\u001b[0;34m)\u001b[0m\u001b[0;34m\u001b[0m\u001b[0;34m\u001b[0m\u001b[0m\n",
      "\u001b[0;31mKeyboardInterrupt\u001b[0m: "
     ]
    }
   ],
   "source": [
    "#this isn't needed in jupyter, just run another cell\n",
    "import time\n",
    "time.sleep(60) # in 5 minutes check the df and close\n",
    "\n",
    "print(wrap.df)\n",
    "wrap.df.to_csv(\"myfile.csv\")#save in file\n",
    "app.disconnect()\n",
    "\n",
    "#in jupyter to show plot\n",
    "wrap.df.close.plot()\n",
    "\n"
   ]
  },
  {
   "cell_type": "code",
   "execution_count": null,
   "id": "21bbc2c6-2751-42a6-8c73-636cc0d5a40e",
   "metadata": {},
   "outputs": [],
   "source": []
  },
  {
   "cell_type": "code",
   "execution_count": 5,
   "id": "d0770964-d1ec-4925-a5f9-5a2c580cfb80",
   "metadata": {},
   "outputs": [
    {
     "ename": "NameError",
     "evalue": "name 'wrap' is not defined",
     "output_type": "error",
     "traceback": [
      "\u001b[0;31m---------------------------------------------------------------------------\u001b[0m",
      "\u001b[0;31mNameError\u001b[0m                                 Traceback (most recent call last)",
      "\u001b[0;32m<ipython-input-5-faa4fc14845e>\u001b[0m in \u001b[0;36m<module>\u001b[0;34m\u001b[0m\n\u001b[0;32m----> 1\u001b[0;31m \u001b[0mprint\u001b[0m\u001b[0;34m(\u001b[0m\u001b[0mwrap\u001b[0m\u001b[0;34m.\u001b[0m\u001b[0mdf\u001b[0m\u001b[0;34m)\u001b[0m\u001b[0;34m\u001b[0m\u001b[0;34m\u001b[0m\u001b[0m\n\u001b[0m\u001b[1;32m      2\u001b[0m \u001b[0;31m#wrap.df.to_csv(\"myfile.csv\")#save in file\u001b[0m\u001b[0;34m\u001b[0m\u001b[0;34m\u001b[0m\u001b[0;34m\u001b[0m\u001b[0m\n\u001b[1;32m      3\u001b[0m \u001b[0mapp\u001b[0m\u001b[0;34m.\u001b[0m\u001b[0mdisconnect\u001b[0m\u001b[0;34m(\u001b[0m\u001b[0;34m)\u001b[0m\u001b[0;34m\u001b[0m\u001b[0;34m\u001b[0m\u001b[0m\n\u001b[1;32m      4\u001b[0m \u001b[0;34m\u001b[0m\u001b[0m\n\u001b[1;32m      5\u001b[0m \u001b[0;31m#in jupyter to show plot\u001b[0m\u001b[0;34m\u001b[0m\u001b[0;34m\u001b[0m\u001b[0;34m\u001b[0m\u001b[0m\n",
      "\u001b[0;31mNameError\u001b[0m: name 'wrap' is not defined"
     ]
    }
   ],
   "source": [
    "print(wrap.df)\n",
    "#wrap.df.to_csv(\"myfile.csv\")#save in file\n",
    "app.disconnect()\n",
    "\n",
    "#in jupyter to show plot"
   ]
  },
  {
   "cell_type": "code",
   "execution_count": 1,
   "id": "2a8a12dc-080b-4c4b-be98-64f16142ea7c",
   "metadata": {},
   "outputs": [],
   "source": [
    "from ibapi.client import *\n",
    "from ibapi.wrapper import *\n",
    "import time\n",
    "from ibapi.contract import Contract\n",
    "from ibapi.ticktype import TickTypeEnum\n",
    "from ibapi.order import *\n",
    "from threading import Timer\n",
    "import pandas as pd"
   ]
  },
  {
   "cell_type": "code",
   "execution_count": 21,
   "id": "d40a508f-53e9-4538-afac-be1ff264a281",
   "metadata": {},
   "outputs": [],
   "source": [
    "from ibapi.client import *\n",
    "from ibapi.wrapper import *\n",
    " \n",
    "\n",
    "\n",
    "class GetHistorical(EWrapper, EClient):\n",
    "    def __init__(self):\n",
    "        EClient.__init__(self, self)\n",
    "        self.df = pd.DataFrame(columns=['date', 'open', 'high', 'low', 'close', 'volume'])\n",
    "\n",
    "    def error(self, reqId, errorCode, errorString):\n",
    "        print(\"Error: \", reqId, \" \", errorCode, \" \", errorString)\n",
    "\n",
    "    def historicalData(self, reqId, bar):\n",
    "        self.df.loc[len(self.df)] = [bar.date, bar.open, bar.high, bar.low, bar.close, bar.volume]\n",
    "#         print(\"HistoricalData. \", reqId, \" Date:\", bar.date, \"Open:\", bar.open, \"High:\", bar.high, \"Low:\", bar.low, \"Close:\", bar.close, \"Volume:\", bar.volume, \"Count:\", bar.barCount, \"WAP:\", bar.average)\n",
    "\n",
    "    def historicalDataEnd(self, reqId: int, start: str, end: str):\n",
    "        super().historicalDataEnd(reqId, start, end)\n",
    "        print(\"HistoricalDataEnd. ReqId:\", reqId, \"from\", start, \"to\", end)\n",
    "        self.done = True\n",
    "        self.disconnect()"
   ]
  },
  {
   "cell_type": "code",
   "execution_count": 22,
   "id": "e531dcb8-2248-4c07-b8f0-f61738669f01",
   "metadata": {},
   "outputs": [],
   "source": [
    "mycontract = Contract()\n",
    "mycontract.symbol = \"AAPL\"\n",
    "mycontract.secType = \"STK\"\n",
    "mycontract.exchange = \"SMART\"\n",
    "mycontract.currency = \"USD\""
   ]
  },
  {
   "cell_type": "code",
   "execution_count": 23,
   "id": "fbe8fc92-d250-478e-93ec-ef39d1c494b5",
   "metadata": {},
   "outputs": [],
   "source": [
    "app=GetHistorical()\n",
    "app.connect(\"127.0.0.1\", 7497, 1000)\n",
    "\n",
    "\n"
   ]
  },
  {
   "cell_type": "code",
   "execution_count": 33,
   "id": "8a742b7c-c09a-4948-91f0-0b8f5d387467",
   "metadata": {},
   "outputs": [],
   "source": [
    "app.connect(\"127.0.0.1\", 7497, 1000)\n",
    "\n"
   ]
  },
  {
   "cell_type": "code",
   "execution_count": 34,
   "id": "edad1d27-7e53-43c8-986a-976d61be67f6",
   "metadata": {},
   "outputs": [],
   "source": [
    "app.reqHistoricalData(1, mycontract, \"\", \"1 D\", \"1 min\", \"BID\", 1, 1, False, [])\n",
    "\n"
   ]
  },
  {
   "cell_type": "code",
   "execution_count": 35,
   "id": "6b1faec2-e5a4-4128-9390-8bf594bc43e9",
   "metadata": {},
   "outputs": [],
   "source": [
    "from ibapi.client import *\n",
    "from ibapi.wrapper import *\n",
    " \n",
    "class TestApp(EClient, EWrapper):\n",
    "    def __init__(self):\n",
    "        EClient.__init__(self, self)\n",
    " \n",
    "    def nextValidId(self, orderId: int):\n",
    "         \n",
    "        mycontract = Contract()\n",
    "        mycontract.symbol = \"AAPL\"\n",
    "        mycontract.secType = \"STK\"\n",
    "        mycontract.exchange = \"SMART\"\n",
    "        mycontract.currency = \"USD\"\n",
    " \n",
    "        self.reqHistoricalData(orderId, mycontract, \"20230126\", \"1 D\", \"1 hour\", \"TRADES\", 0, 1, 0, [])\n",
    " \n",
    "    def historicalData(self, reqId, bar):\n",
    "        print(f\"Historical Data: {bar}\")\n",
    " \n",
    "    def historicalDataEnd(self, reqId, start, end):\n",
    "        print(f\"End of HistoricalData\")\n",
    "        print(f\"Start: {start}, End: {end}\")\n",
    " \n",
    " \n",
    "app = TestApp()\n",
    "app.connect(\"127.0.0.1\", 7497, 1000)\n",
    "app.run()\n",
    " "
   ]
  },
  {
   "cell_type": "code",
   "execution_count": 36,
   "id": "d7b94e3e-3045-4083-867b-ec85c256b2c5",
   "metadata": {},
   "outputs": [],
   "source": [
    "import pandas "
   ]
  },
  {
   "cell_type": "code",
   "execution_count": 37,
   "id": "cf0b283b-a464-4ba3-b56b-349b7ce768fa",
   "metadata": {},
   "outputs": [
    {
     "name": "stderr",
     "output_type": "stream",
     "text": [
      "ERROR 1 504 Not connected\n"
     ]
    },
    {
     "ename": "AttributeError",
     "evalue": "'IBapi' object has no attribute 'data'",
     "output_type": "error",
     "traceback": [
      "\u001b[0;31m---------------------------------------------------------------------------\u001b[0m",
      "\u001b[0;31mAttributeError\u001b[0m                            Traceback (most recent call last)",
      "\u001b[0;32m<ipython-input-37-ac8d94297cfb>\u001b[0m in \u001b[0;36m<module>\u001b[0;34m\u001b[0m\n\u001b[1;32m      3\u001b[0m \u001b[0mtime\u001b[0m\u001b[0;34m.\u001b[0m\u001b[0msleep\u001b[0m\u001b[0;34m(\u001b[0m\u001b[0;36m5\u001b[0m\u001b[0;34m)\u001b[0m \u001b[0;31m#sleep to allow enough time for data to be returned\u001b[0m\u001b[0;34m\u001b[0m\u001b[0;34m\u001b[0m\u001b[0m\n\u001b[1;32m      4\u001b[0m \u001b[0;34m\u001b[0m\u001b[0m\n\u001b[0;32m----> 5\u001b[0;31m \u001b[0mdf\u001b[0m \u001b[0;34m=\u001b[0m \u001b[0mpandas\u001b[0m\u001b[0;34m.\u001b[0m\u001b[0mDataFrame\u001b[0m\u001b[0;34m(\u001b[0m\u001b[0mapp\u001b[0m\u001b[0;34m.\u001b[0m\u001b[0mdata\u001b[0m\u001b[0;34m,\u001b[0m \u001b[0mcolumns\u001b[0m\u001b[0;34m=\u001b[0m\u001b[0;34m[\u001b[0m\u001b[0;34m'DateTime'\u001b[0m\u001b[0;34m,\u001b[0m \u001b[0;34m'Close'\u001b[0m\u001b[0;34m,\u001b[0m \u001b[0;34m'High'\u001b[0m\u001b[0;34m,\u001b[0m \u001b[0;34m'Low'\u001b[0m\u001b[0;34m,\u001b[0m\u001b[0;34m'Volume'\u001b[0m\u001b[0;34m]\u001b[0m\u001b[0;34m)\u001b[0m\u001b[0;34m\u001b[0m\u001b[0;34m\u001b[0m\u001b[0m\n\u001b[0m\u001b[1;32m      6\u001b[0m \u001b[0mdf\u001b[0m\u001b[0;34m[\u001b[0m\u001b[0;34m'DateTime'\u001b[0m\u001b[0;34m]\u001b[0m \u001b[0;34m=\u001b[0m \u001b[0mpandas\u001b[0m\u001b[0;34m.\u001b[0m\u001b[0mto_datetime\u001b[0m\u001b[0;34m(\u001b[0m\u001b[0mdf\u001b[0m\u001b[0;34m[\u001b[0m\u001b[0;34m'DateTime'\u001b[0m\u001b[0;34m]\u001b[0m\u001b[0;34m,\u001b[0m\u001b[0munit\u001b[0m\u001b[0;34m=\u001b[0m\u001b[0;34m's'\u001b[0m\u001b[0;34m)\u001b[0m\u001b[0;34m\u001b[0m\u001b[0;34m\u001b[0m\u001b[0m\n\u001b[1;32m      7\u001b[0m \u001b[0mprint\u001b[0m\u001b[0;34m(\u001b[0m\u001b[0;34m'Retrieve minute-bar Traded Price for AAPL:'\u001b[0m\u001b[0;34m)\u001b[0m\u001b[0;34m\u001b[0m\u001b[0;34m\u001b[0m\u001b[0m\n",
      "\u001b[0;31mAttributeError\u001b[0m: 'IBapi' object has no attribute 'data'"
     ]
    }
   ],
   "source": [
    "app = IBapi()\n",
    "app.reqHistoricalData(1, mycontract, '', '1 D', '1 min', 'TRADES', 0, 2, False, [])\n",
    "time.sleep(5) #sleep to allow enough time for data to be returned\n",
    "\n",
    "df = pandas.DataFrame(app.data, columns=['DateTime', 'Close', 'High', 'Low','Volume'])\n",
    "df['DateTime'] = pandas.to_datetime(df['DateTime'],unit='s')\n",
    "print('Retrieve minute-bar Traded Price for AAPL:')\n",
    "print(df)\n",
    "app.disconnect()\n",
    "\n"
   ]
  },
  {
   "cell_type": "code",
   "execution_count": null,
   "id": "f663d404-daa3-484c-bc89-3d0b84a1e5e0",
   "metadata": {},
   "outputs": [],
   "source": [
    "class IBapi(EWrapper, EClient):\n",
    "    def __init__(self):\n",
    "        EClient.__init__(self, self)\n",
    "\n",
    "    def nextValidId(self, orderId: int):\n",
    "        super().nextValidId(orderId)\n",
    "        self.nextorderId = orderId\n",
    "        print('The next valid order id is: ', self.nextorderId)\n",
    "\n",
    "    def orderStatus(self, orderId, status, filled, remaining, avgFullPrice, permId, parentId, lastFillPrice, clientId,\n",
    "                    whyHeld, mktCapPrice):\n",
    "        print('orderStatus - orderid:', orderId, 'status:', status, 'filled', filled, 'remaining', remaining,\n",
    "              'lastFillPrice', lastFillPrice)\n",
    "\n",
    "    def openOrder(self, orderId, contract, order, orderState):\n",
    "        print('openOrder id:', orderId, contract.symbol, contract.secType, '@', contract.exchange, ':', order.action,\n",
    "              order.orderType, order.totalQuantity, orderState.status)\n",
    "\n",
    "    def execDetails(self, reqId, contract, execution):\n",
    "        print('Order Executed: ', reqId, contract.symbol, contract.secType, contract.currency, execution.execId,\n",
    "              execution.orderId, execution.shares, execution.lastLiquidity)\n",
    "\n",
    "\n",
    "def run_loop():\n",
    "    app.run()"
   ]
  },
  {
   "cell_type": "code",
   "execution_count": 39,
   "id": "268a6822-6321-4b45-872a-ad45339d1cf0",
   "metadata": {},
   "outputs": [],
   "source": [
    "import threading\n",
    "\n"
   ]
  },
  {
   "cell_type": "code",
   "execution_count": 42,
   "id": "ea16da91-98fa-4def-8535-7640d37af9b9",
   "metadata": {},
   "outputs": [],
   "source": [
    "from ibapi.client import EClient\n",
    "from ibapi.wrapper import EWrapper\n",
    "from ibapi.contract import Contract\n",
    "from ibapi.order import *\n",
    "\n"
   ]
  },
  {
   "cell_type": "code",
   "execution_count": 54,
   "id": "3df515b6-015a-49e6-afe6-e8fce58c13bf",
   "metadata": {},
   "outputs": [
    {
     "name": "stderr",
     "output_type": "stream",
     "text": [
      "ERROR 1 504 Not connected\n"
     ]
    },
    {
     "ename": "AttributeError",
     "evalue": "'IBapi' object has no attribute 'data'",
     "output_type": "error",
     "traceback": [
      "\u001b[0;31m---------------------------------------------------------------------------\u001b[0m",
      "\u001b[0;31mAttributeError\u001b[0m                            Traceback (most recent call last)",
      "\u001b[0;32m<ipython-input-54-59b6c5256821>\u001b[0m in \u001b[0;36m<module>\u001b[0;34m\u001b[0m\n\u001b[1;32m      6\u001b[0m \u001b[0mapp\u001b[0m\u001b[0;34m.\u001b[0m\u001b[0mreqHistoricalData\u001b[0m\u001b[0;34m(\u001b[0m\u001b[0;36m1\u001b[0m\u001b[0;34m,\u001b[0m \u001b[0mmycontract\u001b[0m\u001b[0;34m,\u001b[0m \u001b[0;34m''\u001b[0m\u001b[0;34m,\u001b[0m \u001b[0;34m'1 D'\u001b[0m\u001b[0;34m,\u001b[0m \u001b[0;34m'1 min'\u001b[0m\u001b[0;34m,\u001b[0m \u001b[0;34m'BID'\u001b[0m\u001b[0;34m,\u001b[0m \u001b[0;36m0\u001b[0m\u001b[0;34m,\u001b[0m \u001b[0;36m2\u001b[0m\u001b[0;34m,\u001b[0m \u001b[0;32mFalse\u001b[0m\u001b[0;34m,\u001b[0m \u001b[0;34m[\u001b[0m\u001b[0;34m]\u001b[0m\u001b[0;34m)\u001b[0m\u001b[0;34m\u001b[0m\u001b[0;34m\u001b[0m\u001b[0m\n\u001b[1;32m      7\u001b[0m \u001b[0mtime\u001b[0m\u001b[0;34m.\u001b[0m\u001b[0msleep\u001b[0m\u001b[0;34m(\u001b[0m\u001b[0;36m5\u001b[0m\u001b[0;34m)\u001b[0m\u001b[0;34m\u001b[0m\u001b[0;34m\u001b[0m\u001b[0m\n\u001b[0;32m----> 8\u001b[0;31m \u001b[0mdf\u001b[0m \u001b[0;34m=\u001b[0m \u001b[0mpandas\u001b[0m\u001b[0;34m.\u001b[0m\u001b[0mDataFrame\u001b[0m\u001b[0;34m(\u001b[0m\u001b[0mapp\u001b[0m\u001b[0;34m.\u001b[0m\u001b[0mdata\u001b[0m\u001b[0;34m,\u001b[0m \u001b[0mcolumns\u001b[0m\u001b[0;34m=\u001b[0m\u001b[0;34m[\u001b[0m\u001b[0;34m'DateTime'\u001b[0m\u001b[0;34m,\u001b[0m \u001b[0;34m'Close'\u001b[0m\u001b[0;34m,\u001b[0m \u001b[0;34m'High'\u001b[0m\u001b[0;34m,\u001b[0m \u001b[0;34m'Low'\u001b[0m\u001b[0;34m,\u001b[0m\u001b[0;34m'Volume'\u001b[0m\u001b[0;34m]\u001b[0m\u001b[0;34m)\u001b[0m\u001b[0;34m\u001b[0m\u001b[0;34m\u001b[0m\u001b[0m\n\u001b[0m\u001b[1;32m      9\u001b[0m \u001b[0mdf\u001b[0m\u001b[0;34m[\u001b[0m\u001b[0;34m'DateTime'\u001b[0m\u001b[0;34m]\u001b[0m \u001b[0;34m=\u001b[0m \u001b[0mpandas\u001b[0m\u001b[0;34m.\u001b[0m\u001b[0mto_datetime\u001b[0m\u001b[0;34m(\u001b[0m\u001b[0mdf\u001b[0m\u001b[0;34m[\u001b[0m\u001b[0;34m'DateTime'\u001b[0m\u001b[0;34m]\u001b[0m\u001b[0;34m,\u001b[0m\u001b[0munit\u001b[0m\u001b[0;34m=\u001b[0m\u001b[0;34m's'\u001b[0m\u001b[0;34m)\u001b[0m\u001b[0;34m\u001b[0m\u001b[0;34m\u001b[0m\u001b[0m\n\u001b[1;32m     10\u001b[0m \u001b[0mprint\u001b[0m\u001b[0;34m(\u001b[0m\u001b[0;34m'Retrieve minute-bar BID Price for AMZN:'\u001b[0m\u001b[0;34m)\u001b[0m\u001b[0;34m\u001b[0m\u001b[0;34m\u001b[0m\u001b[0m\n",
      "\u001b[0;31mAttributeError\u001b[0m: 'IBapi' object has no attribute 'data'"
     ]
    }
   ],
   "source": [
    "app = IBapi()\n",
    "app.connect('127.0.0.1', 7497, 0)\n",
    "api_thread = threading.Thread(target=run_loop, daemon=True)\n",
    "api_thread.start()\n",
    "time.sleep(1)\n",
    "app.reqHistoricalData(1, mycontract, '', '1 D', '1 min', 'BID', 0, 2, False, [])\n",
    "time.sleep(5)\n",
    "df = pandas.DataFrame(app.data, columns=['DateTime', 'Close', 'High', 'Low','Volume'])\n",
    "df['DateTime'] = pandas.to_datetime(df['DateTime'],unit='s')\n",
    "print('Retrieve minute-bar BID Price for AMZN:')\n",
    "print(df)\n",
    "app.disconnect()"
   ]
  },
  {
   "cell_type": "code",
   "execution_count": 55,
   "id": "c5c9353d-1653-424d-bc65-25d6ce5e512a",
   "metadata": {},
   "outputs": [],
   "source": [
    "from ibapi.client import *\n",
    "from ibapi.wrapper import *\n",
    "import time\n",
    "from ibapi.contract import Contract\n",
    "from ibapi.ticktype import TickTypeEnum\n",
    "from ibapi.order import *\n",
    "from threading import Timer\n",
    "import pandas as pd"
   ]
  },
  {
   "cell_type": "code",
   "execution_count": 69,
   "id": "d6334095-8284-4aa9-a7d6-1f4ecbf61f11",
   "metadata": {},
   "outputs": [],
   "source": [
    "class GetHistorical(EWrapper, EClient):\n",
    "    def _init_(self):\n",
    "        EClient._init_(self, self)\n",
    "        self.df = pd.DataFrame(columns=['date', 'open', 'high', 'low', 'close', 'volume'])\n",
    "\n",
    "    def error(self, reqId, errorCode, errorString):\n",
    "        print(\"Error: \", reqId, \" \", errorCode, \" \", errorString)\n",
    "\n",
    "    def historicalData(self, reqId, bar):\n",
    "        self.df.loc[len(self.df)] = [bar.date, bar.open, bar.high, bar.low, bar.close, bar.volume]\n",
    "        print(\"HistoricalData. \", reqId, \" Date:\", bar.date, \"Open:\", bar.open, \"High:\", bar.high, \"Low:\", bar.low, \"Close:\", bar.close, \"Volume:\", bar.volume, \"Count:\", bar.barCount, \"WAP:\", bar.average)\n",
    "\n",
    "    def historicalDataEnd(self, reqId: int, start: str, end: str):\n",
    "        super().historicalDataEnd(reqId, start, end)\n",
    "        print(\"HistoricalDataEnd. ReqId:\", reqId, \"from\", start, \"to\", end)\n",
    "        self.done = True\n",
    "        self.disconnect()"
   ]
  },
  {
   "cell_type": "code",
   "execution_count": 73,
   "id": "2e2dc5d5-626c-4cd8-bd54-0b43f2a79b09",
   "metadata": {},
   "outputs": [],
   "source": [
    "app.reqHistoricalData(1, mycontract, \"\", \"1 D\", \"1 min\", \"BID\", 1, 1, False, [])"
   ]
  },
  {
   "cell_type": "code",
   "execution_count": 72,
   "id": "db1aaf1d-f475-40b0-afab-033195926cbc",
   "metadata": {},
   "outputs": [
    {
     "name": "stdout",
     "output_type": "stream",
     "text": [
      "None\n"
     ]
    }
   ],
   "source": [
    "print(a)"
   ]
  },
  {
   "cell_type": "code",
   "execution_count": null,
   "id": "0bbc5977-dffa-4bae-831b-d88a8e0e7de7",
   "metadata": {},
   "outputs": [],
   "source": []
  },
  {
   "cell_type": "code",
   "execution_count": null,
   "id": "a9f7499f-5a99-44b7-879a-5c139475fffa",
   "metadata": {},
   "outputs": [],
   "source": []
  }
 ],
 "metadata": {
  "kernelspec": {
   "display_name": "Python 3",
   "language": "python",
   "name": "python3"
  },
  "language_info": {
   "codemirror_mode": {
    "name": "ipython",
    "version": 3
   },
   "file_extension": ".py",
   "mimetype": "text/x-python",
   "name": "python",
   "nbconvert_exporter": "python",
   "pygments_lexer": "ipython3",
   "version": "3.8.8"
  }
 },
 "nbformat": 4,
 "nbformat_minor": 5
}
